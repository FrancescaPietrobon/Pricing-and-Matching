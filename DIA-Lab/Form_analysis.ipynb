{
 "cells": [
  {
   "cell_type": "code",
   "execution_count": 23,
   "outputs": [],
   "source": [
    "import pandas as pd\n",
    "import numpy as np\n",
    "import matplotlib.pyplot as plt\n",
    "\n",
    "data = pd.read_csv(r\"C:\\Users\\franc\\OneDrive - Politecnico di Milano\\POLIMI\\Data Intelligence Applications\\Prove\\DIAForm2.csv\")\n",
    "data.columns = ['Date', 'Age', 'Sex', 'AW', 'WS0', 'WS10', 'WS20', 'WS50']"
   ],
   "metadata": {
    "collapsed": false,
    "pycharm": {
     "name": "#%%\n"
    }
   }
  },
  {
   "cell_type": "code",
   "execution_count": 24,
   "outputs": [
    {
     "name": "stdout",
     "output_type": "stream",
     "text": [
      "                  Date  Age      Sex  AW WS0 WS10 WS20 WS50\n",
      "0  26/03/2021 21.50.20   23  Maschio  Sì  No   Sì  NaN  NaN\n",
      "1  26/03/2021 21.50.46   23  Femmina  No  No   No   No   No\n",
      "2  26/03/2021 21.50.50   23  Maschio  Sì  No   No   Sì  NaN\n",
      "3  26/03/2021 21.50.58   23  Femmina  Sì  No   No   No   Sì\n",
      "4  26/03/2021 21.55.34   24  Femmina  No  No   Sì  NaN  NaN\n"
     ]
    }
   ],
   "source": [
    "print(data.head())"
   ],
   "metadata": {
    "collapsed": false,
    "pycharm": {
     "name": "#%%\n"
    }
   }
  },
  {
   "cell_type": "code",
   "execution_count": 25,
   "outputs": [
    {
     "data": {
      "text/plain": "<Figure size 432x288 with 1 Axes>",
      "image/png": "[encoded data removed]"
     },
     "metadata": {
      "needs_background": "light"
     },
     "output_type": "display_data"
    }
   ],
   "source": [
    "AgeM = data.Age[data.Sex == 'Maschio']\n",
    "AgeF = data.Age[data.Sex == 'Femmina']\n",
    "\n",
    "bins = 50\n",
    "plt.hist([AgeM, AgeF], bins, label=['Male', 'Female'], color=['Blue', 'Pink'])\n",
    "plt.legend(loc='upper right')\n",
    "plt.show()"
   ],
   "metadata": {
    "collapsed": false,
    "pycharm": {
     "name": "#%%\n"
    }
   }
  },
  {
   "cell_type": "code",
   "execution_count": 26,
   "outputs": [
    {
     "data": {
      "text/plain": "968"
     },
     "execution_count": 26,
     "metadata": {},
     "output_type": "execute_result"
    }
   ],
   "source": [
    "# Total number of people\n",
    "N = len(data.Date)\n",
    "N"
   ],
   "metadata": {
    "collapsed": false,
    "pycharm": {
     "name": "#%%\n"
    }
   }
  },
  {
   "cell_type": "code",
   "execution_count": 27,
   "outputs": [
    {
     "data": {
      "text/plain": "0.4369834710743802"
     },
     "execution_count": 27,
     "metadata": {},
     "output_type": "execute_result"
    }
   ],
   "source": [
    "# Number of people that buy item 1\n",
    "ni1 = data.Date[data.AW == 'Sì'].count()\n",
    "nNOi1 = data.Date[data.AW == 'No'].count()\n",
    "ni1\n",
    "nNOi1\n",
    "\n",
    "# P(buy item 1) = i1\n",
    "i1 = ni1 / N\n",
    "i1"
   ],
   "metadata": {
    "collapsed": false,
    "pycharm": {
     "name": "#%%\n"
    }
   }
  },
  {
   "cell_type": "code",
   "execution_count": 28,
   "outputs": [
    {
     "data": {
      "text/plain": "0.2907801418439716"
     },
     "execution_count": 28,
     "metadata": {},
     "output_type": "execute_result"
    }
   ],
   "source": [
    "# Number of people that buy item 2 + P3\n",
    "ni2_p3 = data.Date[data.WS50 == 'Sì'].count()\n",
    "ni2_p3\n",
    "\n",
    "# P(buy item 2 + P3) = i2_p3\n",
    "i2_p3 = ni2_p3 / N\n",
    "i2_p3\n",
    "\n",
    "\n",
    "# Number of people that buy item 2  + P3 | buy item 1\n",
    "ni21_p3 = data.Date[(data.WS50 == 'Sì') & (data.AW == 'Sì')].count()\n",
    "ni21_p3\n",
    "\n",
    "# P(buy item 2 + P3 | buy item 1) = i21_p3\n",
    "i21_p3 = ni21_p3 / ni1\n",
    "i21_p3\n",
    "\n"
   ],
   "metadata": {
    "collapsed": false,
    "pycharm": {
     "name": "#%%\n"
    }
   }
  },
  {
   "cell_type": "code",
   "execution_count": 29,
   "outputs": [
    {
     "data": {
      "text/plain": "0.3262411347517731"
     },
     "execution_count": 29,
     "metadata": {},
     "output_type": "execute_result"
    }
   ],
   "source": [
    "# Number of people that buy item 2 + P2\n",
    "ni2_p2 = data.Date[data.WS20 == 'Sì'].count()\n",
    "ni2_p2\n",
    "\n",
    "# P(buy item 2 + P2) = i2_p2\n",
    "i2_p2 = (ni2_p2 + ni2_p3) / N\n",
    "i2_p2\n",
    "\n",
    "\n",
    "# Number of people that buy item 2  + P2 | buy item 1\n",
    "ni21_p2 = data.Date[(data.WS20 == 'Sì') & (data.AW == 'Sì')].count()\n",
    "ni21_p2\n",
    "\n",
    "# P(buy item 2 + P2 | buy item 1) = i21_p2\n",
    "i21_p2 = (ni21_p2 + ni21_p3) / ni1\n",
    "i21_p2\n"
   ],
   "metadata": {
    "collapsed": false,
    "pycharm": {
     "name": "#%%\n"
    }
   }
  },
  {
   "cell_type": "code",
   "execution_count": 30,
   "outputs": [
    {
     "data": {
      "text/plain": "0.38534278959810875"
     },
     "execution_count": 30,
     "metadata": {},
     "output_type": "execute_result"
    }
   ],
   "source": [
    "# Number of people that buy item 2 + P1\n",
    "ni2_p1 = data.Date[data.WS10 == 'Sì'].count()\n",
    "ni2_p1\n",
    "\n",
    "# P(buy item 2 + P1) = i2_p1\n",
    "i2_p1 = (ni2_p1 + ni2_p2 + ni2_p3) / N\n",
    "i2_p1\n",
    "\n",
    "\n",
    "# Number of people that buy item 2  + P1 | buy item 1\n",
    "ni21_p1 = data.Date[(data.WS10 == 'Sì') & (data.AW == 'Sì')].count()\n",
    "ni21_p1\n",
    "\n",
    "# P(buy item 2 + P1 | buy item 1) = i21_p1\n",
    "i21_p1 = (ni21_p1 + ni21_p2 + ni21_p3) / ni1\n",
    "i21_p1\n"
   ],
   "metadata": {
    "collapsed": false,
    "pycharm": {
     "name": "#%%\n"
    }
   }
  },
  {
   "cell_type": "code",
   "execution_count": 31,
   "outputs": [
    {
     "data": {
      "text/plain": "0.789598108747045"
     },
     "execution_count": 31,
     "metadata": {},
     "output_type": "execute_result"
    }
   ],
   "source": [
    "# Number of people that buy item 2 (or buy item 2 + P0)\n",
    "ni2_p0 = data.Date[data.WS0 == 'Sì'].count()\n",
    "ni2_p0\n",
    "\n",
    "# P(buy item 2 + P0) = P(buy item 2) = i2_p0\n",
    "i2_p0 = (ni2_p0 + ni2_p1 + ni2_p2 + ni2_p3) / N\n",
    "i2_p0\n",
    "\n",
    "\n",
    "# Number of people that buy item 2 (or buy item 2 + P0) | buy item 1\n",
    "ni21_p0 = data.Date[(data.WS0 == 'Sì') & (data.AW == 'Sì')].count()\n",
    "ni21_p0\n",
    "\n",
    "# P(buy item 2 | item 1 + P0) = P(buy item 2 | item 1) = i21_p0\n",
    "i21_p0 = (ni21_p0 + ni21_p1 + ni21_p2 + ni21_p3) / ni1\n",
    "i21_p0\n",
    "\n",
    "\n"
   ],
   "metadata": {
    "collapsed": false,
    "pycharm": {
     "name": "#%%\n"
    }
   }
  },
  {
   "cell_type": "markdown",
   "source": [
    "CLASSES"
   ],
   "metadata": {
    "collapsed": false
   }
  },
  {
   "cell_type": "raw",
   "source": [
    "C1: Female under 35\n",
    "C2: Male under 35\n",
    "C3: Female over 35\n",
    "C4: Male over 35\n",
    "\n"
   ],
   "metadata": {
    "collapsed": false
   }
  },
  {
   "cell_type": "code",
   "execution_count": 32,
   "outputs": [
    {
     "data": {
      "text/plain": "<Figure size 432x288 with 1 Axes>",
      "image/png": "[encoded data removed]"
     },
     "metadata": {
      "needs_background": "light"
     },
     "output_type": "display_data"
    }
   ],
   "source": [
    "AgeM = data.Age[data.Sex == 'Maschio']\n",
    "AgeF = data.Age[data.Sex == 'Femmina']\n",
    "\n",
    "bins = 50\n",
    "plt.hist([AgeM, AgeF], bins, label=['Male', 'Female'], color=['Blue', 'Pink'])\n",
    "plt.legend(loc='upper right')\n",
    "plt.axvline(35, color='k', linestyle='dashed', linewidth=1)\n",
    "plt.show()"
   ],
   "metadata": {
    "collapsed": false,
    "pycharm": {
     "name": "#%%\n"
    }
   }
  },
  {
   "cell_type": "code",
   "execution_count": 33,
   "outputs": [],
   "source": [
    "# Classes\n",
    "c1 = data[(data.Sex == 'Femmina') & (data.Age <= 35)]\n",
    "c2 = data[(data.Sex == 'Maschio') & (data.Age <= 35)]\n",
    "c3 = data[(data.Sex == 'Femmina') & (data.Age > 35)]\n",
    "c4 = data[(data.Sex == 'Maschio') & (data.Age > 35)]\n"
   ],
   "metadata": {
    "collapsed": false,
    "pycharm": {
     "name": "#%%\n"
    }
   }
  },
  {
   "cell_type": "code",
   "execution_count": 34,
   "outputs": [
    {
     "data": {
      "text/plain": "127"
     },
     "execution_count": 34,
     "metadata": {},
     "output_type": "execute_result"
    }
   ],
   "source": [
    "# Total number of people\n",
    "N1 = len(c1.Date)\n",
    "N1\n",
    "\n",
    "N2 = len(c2.Date)\n",
    "N2\n",
    "\n",
    "N3 = len(c3.Date)\n",
    "N3\n",
    "\n",
    "N4 = len(c4.Date)\n",
    "N4\n"
   ],
   "metadata": {
    "collapsed": false,
    "pycharm": {
     "name": "#%%\n"
    }
   }
  },
  {
   "cell_type": "code",
   "execution_count": 35,
   "outputs": [
    {
     "data": {
      "text/plain": "0.3700787401574803"
     },
     "execution_count": 35,
     "metadata": {},
     "output_type": "execute_result"
    }
   ],
   "source": [
    "# Number of people of class c1 that buy item 1\n",
    "nc1_i1 = c1.Date[c1.AW == 'Sì'].count()\n",
    "nc1_i1\n",
    "nc2_i1 = c2.Date[c2.AW == 'Sì'].count()\n",
    "nc2_i1\n",
    "nc3_i1 = c3.Date[c3.AW == 'Sì'].count()\n",
    "nc3_i1\n",
    "nc4_i1 = c4.Date[c4.AW == 'Sì'].count()\n",
    "nc4_i1\n",
    "\n",
    "# P(buy item 1) = i1\n",
    "c1_i1 = nc1_i1 / N1\n",
    "c1_i1\n",
    "c2_i1 = nc2_i1 / N2\n",
    "c2_i1\n",
    "c3_i1 = nc3_i1 / N3\n",
    "c3_i1\n",
    "c4_i1 = nc4_i1 / N4\n",
    "c4_i1\n"
   ],
   "metadata": {
    "collapsed": false,
    "pycharm": {
     "name": "#%%\n"
    }
   }
  },
  {
   "cell_type": "code",
   "execution_count": 36,
   "outputs": [
    {
     "data": {
      "text/plain": "0.2553191489361702"
     },
     "execution_count": 36,
     "metadata": {},
     "output_type": "execute_result"
    }
   ],
   "source": [
    "# Number of people that buy item 2 + P3\n",
    "nc1_i2_p3 = c1.Date[c1.WS50 == 'Sì'].count()\n",
    "nc1_i2_p3\n",
    "nc2_i2_p3 = c2.Date[c2.WS50 == 'Sì'].count()\n",
    "nc2_i2_p3\n",
    "nc3_i2_p3 = c3.Date[c3.WS50 == 'Sì'].count()\n",
    "nc3_i2_p3\n",
    "nc4_i2_p3 = c4.Date[c4.WS50 == 'Sì'].count()\n",
    "nc4_i2_p3\n",
    "\n",
    "# P(buy item 2 + P3) = i2_p3\n",
    "c1_i2_p3 = nc1_i2_p3 / N1\n",
    "c1_i2_p3\n",
    "c2_i2_p3 = nc2_i2_p3 / N2\n",
    "c2_i2_p3\n",
    "c3_i2_p3 = nc3_i2_p3 / N3\n",
    "c3_i2_p3\n",
    "c4_i2_p3 = nc4_i2_p3 / N4\n",
    "c4_i2_p3\n",
    "\n",
    "\n",
    "# Number of people that buy item 2  + P3 | buy item 1\n",
    "nc1_i21_p3 = c1.Date[(c1.WS50 == 'Sì') & (c1.AW == 'Sì')].count()\n",
    "nc1_i21_p3\n",
    "nc2_i21_p3 = c2.Date[(c2.WS50 == 'Sì') & (c2.AW == 'Sì')].count()\n",
    "nc2_i21_p3\n",
    "nc3_i21_p3 = c3.Date[(c3.WS50 == 'Sì') & (c3.AW == 'Sì')].count()\n",
    "nc3_i21_p3\n",
    "nc4_i21_p3 = c4.Date[(c4.WS50 == 'Sì') & (c4.AW == 'Sì')].count()\n",
    "nc4_i21_p3\n",
    "\n",
    "# P(buy item 2 + P3 | buy item 1) = i21_p3\n",
    "c1_i21_p3 = nc1_i21_p3 / nc1_i1\n",
    "c1_i21_p3\n",
    "c2_i21_p3 = nc2_i21_p3 / nc2_i1\n",
    "c2_i21_p3\n",
    "c3_i21_p3 = nc3_i21_p3 / nc3_i1\n",
    "c3_i21_p3\n",
    "c4_i21_p3 = nc4_i21_p3 / nc4_i1\n",
    "c4_i21_p3\n",
    "\n"
   ],
   "metadata": {
    "collapsed": false,
    "pycharm": {
     "name": "#%%\n"
    }
   }
  },
  {
   "cell_type": "code",
   "execution_count": 37,
   "outputs": [
    {
     "data": {
      "text/plain": "0.2765957446808511"
     },
     "execution_count": 37,
     "metadata": {},
     "output_type": "execute_result"
    }
   ],
   "source": [
    "# Number of people that buy item 2 + P2\n",
    "nc1_i2_p2 = c1.Date[c1.WS20 == 'Sì'].count()\n",
    "nc1_i2_p2\n",
    "nc2_i2_p2 = c2.Date[c2.WS20 == 'Sì'].count()\n",
    "nc2_i2_p2\n",
    "nc3_i2_p2 = c3.Date[c3.WS20 == 'Sì'].count()\n",
    "nc3_i2_p2\n",
    "nc4_i2_p2 = c4.Date[c4.WS20 == 'Sì'].count()\n",
    "nc4_i2_p2\n",
    "\n",
    "# P(buy item 2 + P2) = i2_p2\n",
    "c1_i2_p2 = (nc1_i2_p2 + nc1_i2_p3) / N1\n",
    "c1_i2_p2\n",
    "c2_i2_p2 = (nc2_i2_p2 + nc2_i2_p3) / N2\n",
    "c2_i2_p2\n",
    "c3_i2_p2 = (nc3_i2_p2 + nc3_i2_p3) / N3\n",
    "c3_i2_p2\n",
    "c4_i2_p2 = (nc4_i2_p2 + nc4_i2_p3) / N4\n",
    "c4_i2_p2\n",
    "\n",
    "\n",
    "# Number of people that buy item 2  + P2 | buy item 1\n",
    "nc1_i21_p2 = c1.Date[(c1.WS20 == 'Sì') & (c1.AW == 'Sì')].count()\n",
    "nc1_i21_p2\n",
    "nc2_i21_p2 = c2.Date[(c2.WS20 == 'Sì') & (c2.AW == 'Sì')].count()\n",
    "nc2_i21_p2\n",
    "nc3_i21_p2 = c3.Date[(c3.WS20 == 'Sì') & (c3.AW == 'Sì')].count()\n",
    "nc3_i21_p2\n",
    "nc4_i21_p2 = c4.Date[(c4.WS20 == 'Sì') & (c4.AW == 'Sì')].count()\n",
    "nc4_i21_p2\n",
    "\n",
    "# P(buy item 2 + P2 | buy item 1) = i21_p2\n",
    "c1_i21_p2 = (nc1_i21_p2 + nc1_i21_p3) / nc1_i1\n",
    "c1_i21_p2\n",
    "c2_i21_p2 = (nc2_i21_p2 + nc2_i21_p3) / nc2_i1\n",
    "c2_i21_p2\n",
    "c3_i21_p2 = (nc3_i21_p2 + nc3_i21_p3) / nc3_i1\n",
    "c3_i21_p2\n",
    "c4_i21_p2 = (nc4_i21_p2 + nc4_i21_p3) / nc4_i1\n",
    "c4_i21_p2\n"
   ],
   "metadata": {
    "collapsed": false,
    "pycharm": {
     "name": "#%%\n"
    }
   }
  },
  {
   "cell_type": "code",
   "execution_count": 38,
   "outputs": [
    {
     "data": {
      "text/plain": "0.2978723404255319"
     },
     "execution_count": 38,
     "metadata": {},
     "output_type": "execute_result"
    }
   ],
   "source": [
    "# Number of people that buy item 2 + P1\n",
    "nc1_i2_p1 = c1.Date[c1.WS10 == 'Sì'].count()\n",
    "nc1_i2_p1\n",
    "nc2_i2_p1 = c2.Date[c2.WS10 == 'Sì'].count()\n",
    "nc2_i2_p1\n",
    "nc3_i2_p1 = c3.Date[c3.WS10 == 'Sì'].count()\n",
    "nc3_i2_p1\n",
    "nc4_i2_p1 = c4.Date[c4.WS10 == 'Sì'].count()\n",
    "nc4_i2_p1\n",
    "\n",
    "\n",
    "# P(buy item 2 + P1) = i2_p1\n",
    "c1_i2_p1 = (nc1_i2_p1 + nc1_i2_p2 + nc1_i2_p3) / N1\n",
    "c1_i2_p1\n",
    "c2_i2_p1 = (nc2_i2_p1 + nc2_i2_p2 + nc2_i2_p3) / N2\n",
    "c2_i2_p1\n",
    "c3_i2_p1 = (nc3_i2_p1 + nc3_i2_p2 + nc3_i2_p3) / N3\n",
    "c3_i2_p1\n",
    "c4_i2_p1 = (nc4_i2_p1 + nc4_i2_p2 + nc4_i2_p3) / N4\n",
    "c4_i2_p1\n",
    "\n",
    "\n",
    "# Number of people that buy item 2  + P1 | buy item 1\n",
    "nc1_i21_p1 = c1.Date[(c1.WS10 == 'Sì') & (c1.AW == 'Sì')].count()\n",
    "nc1_i21_p1\n",
    "nc2_i21_p1 = c2.Date[(c2.WS10 == 'Sì') & (c2.AW == 'Sì')].count()\n",
    "nc2_i21_p1\n",
    "nc3_i21_p1 = c3.Date[(c3.WS10 == 'Sì') & (c3.AW == 'Sì')].count()\n",
    "nc3_i21_p1\n",
    "nc4_i21_p1 = c4.Date[(c4.WS10 == 'Sì') & (c4.AW == 'Sì')].count()\n",
    "nc4_i21_p1\n",
    "\n",
    "# P(buy item 2 + P1 | buy item 1) = i21_p1\n",
    "c1_i21_p1 = (nc1_i21_p1 + nc1_i21_p2 + nc1_i21_p3) / nc1_i1\n",
    "c1_i21_p1\n",
    "c2_i21_p1 = (nc2_i21_p1 + nc2_i21_p2 + nc2_i21_p3) / nc2_i1\n",
    "c2_i21_p1\n",
    "c3_i21_p1 = (nc3_i21_p1 + nc3_i21_p2 + nc3_i21_p3) / nc3_i1\n",
    "c3_i21_p1\n",
    "c4_i21_p1 = (nc4_i21_p1 + nc4_i21_p2 + nc4_i21_p3) / nc4_i1\n",
    "c4_i21_p1\n"
   ],
   "metadata": {
    "collapsed": false,
    "pycharm": {
     "name": "#%%\n"
    }
   }
  },
  {
   "cell_type": "code",
   "execution_count": 39,
   "outputs": [
    {
     "data": {
      "text/plain": "0.5957446808510638"
     },
     "execution_count": 39,
     "metadata": {},
     "output_type": "execute_result"
    }
   ],
   "source": [
    "# Number of people that buy item 2 (or buy item 2 + P0)\n",
    "nc1_i2_p0 = c1.Date[c1.WS0 == 'Sì'].count()\n",
    "nc1_i2_p0\n",
    "nc2_i2_p0 = c2.Date[c2.WS0 == 'Sì'].count()\n",
    "nc2_i2_p0\n",
    "nc3_i2_p0 = c3.Date[c3.WS0 == 'Sì'].count()\n",
    "nc3_i2_p0\n",
    "nc4_i2_p0 = c4.Date[c4.WS0 == 'Sì'].count()\n",
    "nc4_i2_p0\n",
    "\n",
    "# P(buy item 2 + P0) = P(buy item 2) = i2_p0\n",
    "c1_i2_p0 = (nc1_i2_p0 + nc1_i2_p1 + nc1_i2_p2 + nc1_i2_p3) / N1\n",
    "c1_i2_p0\n",
    "c2_i2_p0 = (nc2_i2_p0 + nc2_i2_p1 + nc2_i2_p2 + nc2_i2_p3) / N2\n",
    "c2_i2_p0\n",
    "c3_i2_p0 = (nc3_i2_p0 + nc3_i2_p1 + nc3_i2_p2 + nc3_i2_p3) / N3\n",
    "c3_i2_p0\n",
    "c4_i2_p0 = (nc4_i2_p0 + nc4_i2_p1 + nc4_i2_p2 + nc4_i2_p3) / N4\n",
    "c4_i2_p0\n",
    "\n",
    "\n",
    "# Number of people that buy item 2 (or buy item 2 + P0) | buy item 1\n",
    "nc1_i21_p0 = c1.Date[(c1.WS0 == 'Sì') & (c1.AW == 'Sì')].count()\n",
    "nc1_i21_p0\n",
    "nc2_i21_p0 = c2.Date[(c2.WS0 == 'Sì') & (c2.AW == 'Sì')].count()\n",
    "nc2_i21_p0\n",
    "nc3_i21_p0 = c3.Date[(c3.WS0 == 'Sì') & (c3.AW == 'Sì')].count()\n",
    "nc3_i21_p0\n",
    "nc4_i21_p0 = c4.Date[(c4.WS0 == 'Sì') & (c4.AW == 'Sì')].count()\n",
    "nc4_i21_p0\n",
    "\n",
    "# P(buy item 2 | item 1 + P0) = P(buy item 2 | item 1) = i21_p0\n",
    "c1_i21_p0 = (nc1_i21_p0 + nc1_i21_p1 + nc1_i21_p2 + nc1_i21_p3) / nc1_i1\n",
    "c1_i21_p0\n",
    "c2_i21_p0 = (nc2_i21_p0 + nc2_i21_p1 + nc2_i21_p2 + nc2_i21_p3) / nc2_i1\n",
    "c2_i21_p0\n",
    "c3_i21_p0 = (nc3_i21_p0 + nc3_i21_p1 + nc3_i21_p2 + nc3_i21_p3) / nc3_i1\n",
    "c3_i21_p0\n",
    "c4_i21_p0 = (nc4_i21_p0 + nc4_i21_p1 + nc4_i21_p2 + nc4_i21_p3) / nc4_i1\n",
    "c4_i21_p0\n"
   ],
   "metadata": {
    "collapsed": false,
    "pycharm": {
     "name": "#%%\n"
    }
   }
  },
  {
   "cell_type": "markdown",
   "source": [
    "MATRICES"
   ],
   "metadata": {
    "collapsed": false
   }
  },
  {
   "cell_type": "code",
   "execution_count": 40,
   "outputs": [
    {
     "data": {
      "text/plain": "array([[0.83060109, 0.77380952, 0.81651376, 0.59574468],\n       [0.3715847 , 0.36904762, 0.4587156 , 0.29787234],\n       [0.32240437, 0.28571429, 0.3853211 , 0.27659574],\n       [0.27868852, 0.25      , 0.35779817, 0.25531915]])"
     },
     "execution_count": 40,
     "metadata": {},
     "output_type": "execute_result"
    }
   ],
   "source": [
    "# Matrix P = probabilities (row promo / column classes)\n",
    "\n",
    "P = np.array([[c1_i21_p0, c2_i21_p0, c3_i21_p0, c4_i21_p0],\n",
    "              [c1_i21_p1, c2_i21_p1, c3_i21_p1, c4_i21_p1],\n",
    "              [c1_i21_p2, c2_i21_p2, c3_i21_p2, c4_i21_p2],\n",
    "              [c1_i21_p3, c2_i21_p3, c3_i21_p3, c4_i21_p3]])\n",
    "P"
   ],
   "metadata": {
    "collapsed": false,
    "pycharm": {
     "name": "#%%\n"
    }
   }
  },
  {
   "cell_type": "code",
   "execution_count": 41,
   "outputs": [
    {
     "data": {
      "text/plain": "array([[0.75890411, 0.60606061, 0.60816327, 0.44094488],\n       [0.41643836, 0.38961039, 0.35918367, 0.27559055],\n       [0.36438356, 0.34632035, 0.31428571, 0.2519685 ],\n       [0.31780822, 0.31601732, 0.28571429, 0.22834646]])"
     },
     "execution_count": 41,
     "metadata": {},
     "output_type": "execute_result"
    }
   ],
   "source": [
    "# CONSIDERING ALL CUSTOMERS, ALSO WHO DON'T BUY ITEM 1\n",
    "\n",
    "PALL = np.array([[c1_i2_p0, c2_i2_p0, c3_i2_p0, c4_i2_p0],\n",
    "              [c1_i2_p1, c2_i2_p1, c3_i2_p1, c4_i2_p1],\n",
    "              [c1_i2_p2, c2_i2_p2, c3_i2_p2, c4_i2_p2],\n",
    "              [c1_i2_p3, c2_i2_p3, c3_i2_p3, c4_i2_p3]])\n",
    "PALL"
   ],
   "metadata": {
    "collapsed": false,
    "pycharm": {
     "name": "#%%\n"
    }
   }
  },
  {
   "cell_type": "code",
   "execution_count": 46,
   "outputs": [
    {
     "data": {
      "text/plain": "True"
     },
     "execution_count": 46,
     "metadata": {},
     "output_type": "execute_result"
    }
   ],
   "source": [
    "\n",
    "# Matrix nP = number of customers considered (row promo / column classes)\n",
    "\n",
    "nP = np.array([[nc1_i21_p0, nc2_i21_p0, nc3_i21_p0, nc4_i21_p0],\n",
    "              [nc1_i21_p1, nc2_i21_p1, nc3_i21_p1, nc4_i21_p1],\n",
    "              [nc1_i21_p2, nc2_i21_p2, nc3_i21_p2, nc4_i21_p2],\n",
    "              [nc1_i21_p3, nc2_i21_p3, nc3_i21_p3, nc4_i21_p3]])\n",
    "nP\n",
    "\n",
    "# To check that che sum are correct\n",
    "np.sum(nP) + data.Date[(data.AW == \"Sì\") & (data.WS50 == \"No\")].count() == data.Date[data.AW == \"Sì\"].count()"
   ],
   "metadata": {
    "collapsed": false,
    "pycharm": {
     "name": "#%%\n"
    }
   }
  },
  {
   "cell_type": "code",
   "execution_count": 48,
   "outputs": [
    {
     "data": {
      "text/plain": "True"
     },
     "execution_count": 48,
     "metadata": {},
     "output_type": "execute_result"
    }
   ],
   "source": [
    "# CONSIDERING ALL CUSTOMERS, ALSO WHO DON'T BUY ITEM 1\n",
    "\n",
    "nPALL = np.array([[nc1_i2_p0, nc2_i2_p0, nc3_i2_p0, nc4_i2_p0],\n",
    "              [nc1_i2_p1, nc2_i2_p1, nc3_i2_p1, nc4_i2_p1],\n",
    "              [nc1_i2_p2, nc2_i2_p2, nc3_i2_p2, nc4_i2_p2],\n",
    "              [nc1_i2_p3, nc2_i2_p3, nc3_i2_p3, nc4_i2_p3]])\n",
    "nPALL\n",
    "\n",
    "# To check that che sum are correct\n",
    "np.sum(nPALL) + data.Date[data.WS50 == \"No\"].count() == data.Date.count()\n"
   ],
   "metadata": {
    "collapsed": false,
    "pycharm": {
     "name": "#%%\n"
    }
   }
  },
  {
   "cell_type": "code",
   "execution_count": 44,
   "outputs": [
    {
     "data": {
      "text/plain": "array([365, 231, 245, 127])"
     },
     "execution_count": 44,
     "metadata": {},
     "output_type": "execute_result"
    }
   ],
   "source": [
    "# Array c = number of customers [c1, c2, c3, c4]\n",
    "\n",
    "c = np.array([N1, N2, N3, N4])\n",
    "c\n"
   ],
   "metadata": {
    "collapsed": false,
    "pycharm": {
     "name": "#%%\n"
    }
   }
  }
 ],
 "metadata": {
  "kernelspec": {
   "display_name": "Python 3",
   "language": "python",
   "name": "python3"
  },
  "language_info": {
   "codemirror_mode": {
    "name": "ipython",
    "version": 2
   },
   "file_extension": ".py",
   "mimetype": "text/x-python",
   "name": "python",
   "nbconvert_exporter": "python",
   "pygments_lexer": "ipython2",
   "version": "2.7.6"
  }
 },
 "nbformat": 4,
 "nbformat_minor": 0
}