{
 "cells": [
  {
   "cell_type": "code",
   "execution_count": 29,
   "metadata": {
    "collapsed": true
   },
   "outputs": [],
   "source": [
    "import pandas as pd\n",
    "import numpy as np\n",
    "import matplotlib.pyplot as plt\n",
    "\n",
    "data = pd.read_csv(r\"C:\\Users\\Diego\\Downloads\\DIA_Form.csv\")\n",
    "data.columns = ['Date', 'Age', 'Sex', 'AW', 'WS0', 'WS10', 'WS20', 'WS50']\n"
   ]
  },
  {
   "cell_type": "code",
   "execution_count": 30,
   "outputs": [
    {
     "name": "stdout",
     "output_type": "stream",
     "text": [
      "                  Date  Age      Sex  AW WS0 WS10 WS20 WS50\n",
      "0  26/03/2021 21.50.20   23  Maschio  Sì  No   Sì  NaN  NaN\n",
      "1  26/03/2021 21.50.46   23  Femmina  No  No   No   No   No\n",
      "2  26/03/2021 21.50.50   23  Maschio  Sì  No   No   Sì  NaN\n",
      "3  26/03/2021 21.50.58   23  Femmina  Sì  No   No   No   Sì\n",
      "4  26/03/2021 21.55.34   24  Femmina  No  No   Sì  NaN  NaN\n"
     ]
    }
   ],
   "source": [
    "print(data.head())"
   ],
   "metadata": {
    "collapsed": false,
    "pycharm": {
     "name": "#%%\n"
    }
   }
  },
  {
   "cell_type": "code",
   "execution_count": 31,
   "outputs": [
    {
     "data": {
      "text/plain": "987"
     },
     "execution_count": 31,
     "metadata": {},
     "output_type": "execute_result"
    }
   ],
   "source": [
    "# Total number of people\n",
    "N = len(data.Date)\n",
    "N"
   ],
   "metadata": {
    "collapsed": false,
    "pycharm": {
     "name": "#%%\n"
    }
   }
  },
  {
   "cell_type": "markdown",
   "source": [
    "CLASSES"
   ],
   "metadata": {
    "collapsed": false
   }
  },
  {
   "cell_type": "raw",
   "source": [
    "C1: Female under 35\n",
    "C2: Male under 35\n",
    "C3: Female over 35\n",
    "C4: Male over 35\n",
    "\n"
   ],
   "metadata": {
    "collapsed": false
   }
  },
  {
   "cell_type": "code",
   "execution_count": 32,
   "outputs": [
    {
     "data": {
      "text/plain": "<Figure size 432x288 with 1 Axes>",
      "image/png": "[encoded data removed]"
     },
     "metadata": {
      "needs_background": "light"
     },
     "output_type": "display_data"
    }
   ],
   "source": [
    "AgeM = data.Age[data.Sex == 'Maschio']\n",
    "AgeF = data.Age[data.Sex == 'Femmina']\n",
    "\n",
    "bins = 50\n",
    "plt.hist([AgeM, AgeF], bins, label=['Male', 'Female'], color=['Blue', 'Pink'])\n",
    "plt.legend(loc='upper right')\n",
    "plt.axvline(35, color='k', linestyle='dashed', linewidth=1)\n",
    "plt.show()"
   ],
   "metadata": {
    "collapsed": false,
    "pycharm": {
     "name": "#%%\n"
    }
   }
  },
  {
   "cell_type": "code",
   "execution_count": 33,
   "outputs": [],
   "source": [
    "# Classes\n",
    "c1 = data[(data.Sex == 'Femmina') & (data.Age <= 35)]\n",
    "c2 = data[(data.Sex == 'Maschio') & (data.Age <= 35)]\n",
    "c3 = data[(data.Sex == 'Femmina') & (data.Age > 35)]\n",
    "c4 = data[(data.Sex == 'Maschio') & (data.Age > 35)]"
   ],
   "metadata": {
    "collapsed": false,
    "pycharm": {
     "name": "#%%\n"
    }
   }
  },
  {
   "cell_type": "code",
   "execution_count": 34,
   "outputs": [
    {
     "data": {
      "text/plain": "130"
     },
     "execution_count": 34,
     "metadata": {},
     "output_type": "execute_result"
    }
   ],
   "source": [
    "# Total number of people\n",
    "N1 = len(c1.Date)\n",
    "N1\n",
    "\n",
    "N2 = len(c2.Date)\n",
    "N2\n",
    "\n",
    "N3 = len(c3.Date)\n",
    "N3\n",
    "\n",
    "N4 = len(c4.Date)\n",
    "N4"
   ],
   "metadata": {
    "collapsed": false,
    "pycharm": {
     "name": "#%%\n"
    }
   }
  },
  {
   "cell_type": "code",
   "execution_count": 35,
   "outputs": [
    {
     "data": {
      "text/plain": "0.16923076923076924"
     },
     "execution_count": 35,
     "metadata": {},
     "output_type": "execute_result"
    }
   ],
   "source": [
    "# Number of people of class c1 that buy item 1\n",
    "nc1_i1 = c1.Date[c1.AW == 'Sì'].count()\n",
    "nc1_i1\n",
    "nc2_i1 = c2.Date[c2.AW == 'Sì'].count()\n",
    "nc2_i1\n",
    "nc3_i1 = c3.Date[c3.AW == 'Sì'].count()\n",
    "nc3_i1\n",
    "nc4_i1 = c4.Date[c4.AW == 'Sì'].count()\n",
    "nc4_i1\n",
    "\n",
    "\n",
    "# P(buy item 1) = i1\n",
    "c1_i1 = nc1_i1 / N1\n",
    "c1_i1\n",
    "c2_i1 = nc2_i1 / N2\n",
    "c2_i1\n",
    "c3_i1 = nc3_i1 / N3\n",
    "c3_i1\n",
    "c4_i1 = nc4_i1 / N4\n",
    "c4_i1\n",
    "\n",
    "\n",
    "\n",
    "# Number of people that buy item 2 (or buy item 2 + P0)\n",
    "nc1_i2_p0 = c1.Date[c1.WS0 == 'Sì'].count()\n",
    "nc1_i2_p0\n",
    "nc2_i2_p0 = c2.Date[c2.WS0 == 'Sì'].count()\n",
    "nc2_i2_p0\n",
    "nc3_i2_p0 = c3.Date[c3.WS0 == 'Sì'].count()\n",
    "nc3_i2_p0\n",
    "nc4_i2_p0 = c4.Date[c4.WS0 == 'Sì'].count()\n",
    "nc4_i2_p0\n",
    "\n",
    "# P(buy item 2 + P0) = P(buy item 2) = i2_p0\n",
    "c1_i2_p0 = (nc1_i2_p0) / N1\n",
    "c1_i2_p0\n",
    "c2_i2_p0 = (nc2_i2_p0) / N2\n",
    "c2_i2_p0\n",
    "c3_i2_p0 = (nc3_i2_p0) / N3\n",
    "c3_i2_p0\n",
    "c4_i2_p0 = (nc4_i2_p0) / N4\n",
    "c4_i2_p0\n"
   ],
   "metadata": {
    "collapsed": false,
    "pycharm": {
     "name": "#%%\n"
    }
   }
  },
  {
   "cell_type": "code",
   "execution_count": 36,
   "outputs": [
    {
     "data": {
      "text/plain": "0.19230769230769232"
     },
     "execution_count": 36,
     "metadata": {},
     "output_type": "execute_result"
    }
   ],
   "source": [
    "# Number of people that buy item 2 + P1\n",
    "nc1_i2_p1 = c1.Date[c1.WS10 == 'Sì'].count()\n",
    "nc1_i2_p1\n",
    "nc2_i2_p1 = c2.Date[c2.WS10 == 'Sì'].count()\n",
    "nc2_i2_p1\n",
    "nc3_i2_p1 = c3.Date[c3.WS10 == 'Sì'].count()\n",
    "nc3_i2_p1\n",
    "nc4_i2_p1 = c4.Date[c4.WS10 == 'Sì'].count()\n",
    "nc4_i2_p1\n",
    "\n",
    "\n",
    "# P(buy item 2 + P1) = i2_p1\n",
    "c1_i2_p1 = (nc1_i2_p1 + nc1_i2_p0 ) / N1\n",
    "c1_i2_p1\n",
    "c2_i2_p1 = (nc2_i2_p1 + nc2_i2_p0) / N2\n",
    "c2_i2_p1\n",
    "c3_i2_p1 = (nc3_i2_p1 + nc3_i2_p0) / N3\n",
    "c3_i2_p1\n",
    "c4_i2_p1 = (nc4_i2_p1 + nc4_i2_p0) / N4\n",
    "c4_i2_p1"
   ],
   "metadata": {
    "collapsed": false,
    "pycharm": {
     "name": "#%%\n"
    }
   }
  },
  {
   "cell_type": "code",
   "execution_count": 37,
   "outputs": [
    {
     "data": {
      "text/plain": "0.2153846153846154"
     },
     "execution_count": 37,
     "metadata": {},
     "output_type": "execute_result"
    }
   ],
   "source": [
    "# Number of people that buy item 2 + P2\n",
    "nc1_i2_p2 = c1.Date[c1.WS20 == 'Sì'].count()\n",
    "nc1_i2_p2\n",
    "nc2_i2_p2 = c2.Date[c2.WS20 == 'Sì'].count()\n",
    "nc2_i2_p2\n",
    "nc3_i2_p2 = c3.Date[c3.WS20 == 'Sì'].count()\n",
    "nc3_i2_p2\n",
    "nc4_i2_p2 = c4.Date[c4.WS20 == 'Sì'].count()\n",
    "nc4_i2_p2\n",
    "\n",
    "# P(buy item 2 + P2) = i2_p2\n",
    "c1_i2_p2 = (nc1_i2_p2 + nc1_i2_p1 + nc1_i2_p0) / N1\n",
    "c1_i2_p2\n",
    "c2_i2_p2 = (nc2_i2_p2 + nc2_i2_p1 + nc2_i2_p0) / N2\n",
    "c2_i2_p2\n",
    "c3_i2_p2 = (nc3_i2_p2 + nc3_i2_p1 + nc3_i2_p0) / N3\n",
    "c3_i2_p2\n",
    "c4_i2_p2 = (nc4_i2_p2 + nc4_i2_p1 + nc4_i2_p0) / N4\n",
    "c4_i2_p2\n"
   ],
   "metadata": {
    "collapsed": false,
    "pycharm": {
     "name": "#%%\n"
    }
   }
  },
  {
   "cell_type": "code",
   "execution_count": 38,
   "outputs": [
    {
     "data": {
      "text/plain": "0.43846153846153846"
     },
     "execution_count": 38,
     "metadata": {},
     "output_type": "execute_result"
    }
   ],
   "source": [
    "# Number of people that buy item 2 + P3\n",
    "nc1_i2_p3 = c1.Date[c1.WS50 == 'Sì'].count()\n",
    "nc1_i2_p3\n",
    "nc2_i2_p3 = c2.Date[c2.WS50 == 'Sì'].count()\n",
    "nc2_i2_p3\n",
    "nc3_i2_p3 = c3.Date[c3.WS50 == 'Sì'].count()\n",
    "nc3_i2_p3\n",
    "nc4_i2_p3 = c4.Date[c4.WS50 == 'Sì'].count()\n",
    "nc4_i2_p3\n",
    "\n",
    "# P(buy item 2 + P3) = i2_p3\n",
    "c1_i2_p3 = (nc1_i2_p3 + nc1_i2_p2 + nc1_i2_p1 + nc1_i2_p0) / N1\n",
    "c1_i2_p3\n",
    "c2_i2_p3 = (nc2_i2_p3 + nc2_i2_p2 + nc2_i2_p1 + nc2_i2_p0) / N2\n",
    "c2_i2_p3\n",
    "c3_i2_p3 = (nc3_i2_p3 + nc3_i2_p2 + nc3_i2_p1 + nc3_i2_p0) / N3\n",
    "c3_i2_p3\n",
    "c4_i2_p3 = (nc4_i2_p3 + nc4_i2_p2 + nc4_i2_p1 + nc4_i2_p0) / N4\n",
    "c4_i2_p3\n"
   ],
   "metadata": {
    "collapsed": false,
    "pycharm": {
     "name": "#%%\n"
    }
   }
  },
  {
   "cell_type": "markdown",
   "source": [
    "MATRICES"
   ],
   "metadata": {
    "collapsed": false
   }
  },
  {
   "cell_type": "code",
   "execution_count": 39,
   "outputs": [
    {
     "data": {
      "text/plain": "array([[0.34933333, 0.21097046, 0.24897959, 0.16923077],\n       [0.4       , 0.25316456, 0.29387755, 0.19230769],\n       [0.44533333, 0.28270042, 0.32244898, 0.21538462],\n       [0.76266667, 0.60337553, 0.60816327, 0.43846154]])"
     },
     "execution_count": 39,
     "metadata": {},
     "output_type": "execute_result"
    }
   ],
   "source": [
    "# CONSIDERING ALL CUSTOMERS, ALSO WHO DON'T BUY ITEM 1\n",
    "\n",
    "PALL = np.array([[c1_i2_p0, c2_i2_p0, c3_i2_p0, c4_i2_p0],\n",
    "              [c1_i2_p1, c2_i2_p1, c3_i2_p1, c4_i2_p1],\n",
    "              [c1_i2_p2, c2_i2_p2, c3_i2_p2, c4_i2_p2],\n",
    "              [c1_i2_p3, c2_i2_p3, c3_i2_p3, c4_i2_p3]])\n",
    "PALL"
   ],
   "metadata": {
    "collapsed": false,
    "pycharm": {
     "name": "#%%\n"
    }
   }
  },
  {
   "cell_type": "code",
   "execution_count": 40,
   "outputs": [
    {
     "data": {
      "text/plain": "array([[131,  50,  61,  22],\n       [ 19,  10,  11,   3],\n       [ 17,   7,   7,   3],\n       [119,  76,  70,  29]])"
     },
     "execution_count": 40,
     "metadata": {},
     "output_type": "execute_result"
    }
   ],
   "source": [
    "# CONSIDERING ALL CUSTOMERS, ALSO WHO DON'T BUY ITEM 1\n",
    "\n",
    "nPALL = np.array([[nc1_i2_p0, nc2_i2_p0, nc3_i2_p0, nc4_i2_p0],\n",
    "              [nc1_i2_p1, nc2_i2_p1, nc3_i2_p1, nc4_i2_p1],\n",
    "              [nc1_i2_p2, nc2_i2_p2, nc3_i2_p2, nc4_i2_p2],\n",
    "              [nc1_i2_p3, nc2_i2_p3, nc3_i2_p3, nc4_i2_p3]])\n",
    "nPALL\n",
    "\n",
    "# To check that che sum are correct\n",
    "#np.sum(nPALL) + data.Date[data.WS50 == \"No\"].count() == data.Date.count()\n"
   ],
   "metadata": {
    "collapsed": false,
    "pycharm": {
     "name": "#%%\n"
    }
   }
  },
  {
   "cell_type": "code",
   "execution_count": 41,
   "outputs": [
    {
     "data": {
      "text/plain": "array([375, 237, 245, 130])"
     },
     "execution_count": 41,
     "metadata": {},
     "output_type": "execute_result"
    }
   ],
   "source": [
    "# Array c = number of customers [c1, c2, c3, c4]\n",
    "\n",
    "c = np.array([N1, N2, N3, N4])\n",
    "c\n"
   ],
   "metadata": {
    "collapsed": false,
    "pycharm": {
     "name": "#%%\n"
    }
   }
  }
 ],
 "metadata": {
  "kernelspec": {
   "display_name": "Python 3",
   "language": "python",
   "name": "python3"
  },
  "language_info": {
   "codemirror_mode": {
    "name": "ipython",
    "version": 2
   },
   "file_extension": ".py",
   "mimetype": "text/x-python",
   "name": "python",
   "nbconvert_exporter": "python",
   "pygments_lexer": "ipython2",
   "version": "2.7.6"
  }
 },
 "nbformat": 4,
 "nbformat_minor": 0
}