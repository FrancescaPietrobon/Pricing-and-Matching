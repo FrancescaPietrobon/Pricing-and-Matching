{
 "cells": [
  {
   "cell_type": "code",
   "execution_count": 2,
   "metadata": {},
   "outputs": [],
   "source": [
    "import pandas as pd\n",
    "import numpy as np\n",
    "import matplotlib.pyplot as plt"
   ]
  },
  {
   "cell_type": "code",
   "execution_count": 43,
   "metadata": {
    "pycharm": {
     "name": "#%%\n"
    }
   },
   "outputs": [
    {
     "name": "stdout",
     "output_type": "stream",
     "text": [
      "                  Date  Age      Sex  AW WS0 WS10 WS20 WS50\n",
      "0  26/03/2021 21.50.20   23  Maschio  Sì  No   Sì  NaN  NaN\n",
      "1  26/03/2021 21.50.46   23  Femmina  No  No   No   No   No\n",
      "2  26/03/2021 21.50.50   23  Maschio  Sì  No   No   Sì  NaN\n",
      "3  26/03/2021 21.50.58   23  Femmina  Sì  No   No   No   Sì\n",
      "4  26/03/2021 21.55.34   24  Femmina  No  No   Sì  NaN  NaN\n"
     ]
    }
   ],
   "source": [
    "data = pd.read_csv('DIA_Form.csv')\n",
    "data.columns = ['Date', 'Age', 'Sex', 'AW', 'WS0', 'WS10', 'WS20', 'WS50']\n",
    "print(data.head())"
   ]
  },
  {
   "cell_type": "code",
   "execution_count": 37,
   "metadata": {
    "pycharm": {
     "name": "#%%\n"
    }
   },
   "outputs": [
    {
     "name": "stdout",
     "output_type": "stream",
     "text": [
      "Number of submissions: 1004\n"
     ]
    }
   ],
   "source": [
    "# Number of people who submitted the form\n",
    "N = len(data.Date)\n",
    "print(\"Number of submissions:\", N)"
   ]
  },
  {
   "cell_type": "markdown",
   "metadata": {},
   "source": [
    "### Classes\n",
    "* Class1: Females under 35\n",
    "* Class2: Males under 35\n",
    "* Class3: Females over 35\n",
    "* Class4: Males over 35"
   ]
  },
  {
   "cell_type": "code",
   "execution_count": 5,
   "metadata": {
    "pycharm": {
     "name": "#%%\n"
    }
   },
   "outputs": [
    {
     "data": {
      "image/png": "[encoded data removed]",
      "text/plain": [
       "<Figure size 432x288 with 1 Axes>"
      ]
     },
     "metadata": {
      "needs_background": "light"
     },
     "output_type": "display_data"
    }
   ],
   "source": [
    "AgeM = data.Age[data.Sex == 'Maschio']\n",
    "AgeF = data.Age[data.Sex == 'Femmina']\n",
    "\n",
    "bins = 50\n",
    "plt.hist([AgeM, AgeF], bins, label=['Males', 'Females'], color=['Blue', 'Pink'])\n",
    "plt.legend(loc='upper right')\n",
    "plt.axvline(35, color='k', linestyle='dashed', linewidth=1)\n",
    "plt.show()"
   ]
  },
  {
   "cell_type": "code",
   "execution_count": 35,
   "metadata": {
    "pycharm": {
     "name": "#%%\n"
    },
    "scrolled": true
   },
   "outputs": [
    {
     "name": "stdout",
     "output_type": "stream",
     "text": [
      "Number of submissions divided by class:  [380, 246, 247, 131]\n"
     ]
    }
   ],
   "source": [
    "# Form submissions divided by class\n",
    "c1 = data[(data.Sex == 'Femmina') & (data.Age <= 35)]\n",
    "c2 = data[(data.Sex == 'Maschio') & (data.Age <= 35)]\n",
    "c3 = data[(data.Sex == 'Femmina') & (data.Age > 35)]\n",
    "c4 = data[(data.Sex == 'Maschio') & (data.Age > 35)]\n",
    "\n",
    "# Number of people who submitted the form, divided by class\n",
    "N1 = len(c1.Date)\n",
    "N2 = len(c2.Date)\n",
    "N3 = len(c3.Date)\n",
    "N4 = len(c4.Date)\n",
    "\n",
    "print(\"Number of submissions divided by class: \", [N1, N2, N3, N4])"
   ]
  },
  {
   "cell_type": "markdown",
   "metadata": {},
   "source": [
    "### Probabilities computation\n",
    "Remember that the number of people and the probabilities related to item 2 are computed considering all the people who submitted the form, so also the ones who did not technically buy item 1. This is because, to answer the question about item 2 in the form, we told the potential customers to assume they already bought item 1."
   ]
  },
  {
   "cell_type": "code",
   "execution_count": 16,
   "metadata": {
    "pycharm": {
     "name": "#%%\n"
    }
   },
   "outputs": [
    {
     "name": "stdout",
     "output_type": "stream",
     "text": [
      "P(buy item 1) =  [0.49736842105263157, 0.3617886178861789, 0.44534412955465585, 0.37404580152671757]\n"
     ]
    }
   ],
   "source": [
    "# Number of people per class that buy (at least) item 1\n",
    "nc1_i1 = c1.Date[c1.AW == 'Sì'].count()\n",
    "nc2_i1 = c2.Date[c2.AW == 'Sì'].count()\n",
    "nc3_i1 = c3.Date[c3.AW == 'Sì'].count()\n",
    "nc4_i1 = c4.Date[c4.AW == 'Sì'].count()\n",
    "\n",
    "# P(buy item 1) = i1\n",
    "c1_i1 = nc1_i1 / N1\n",
    "c2_i1 = nc2_i1 / N2\n",
    "c3_i1 = nc3_i1 / N3\n",
    "c4_i1 = nc4_i1 / N4\n",
    "\n",
    "print(\"P(buy item 1) = \", [c1_i1, c2_i1, c3_i1, c4_i1])"
   ]
  },
  {
   "cell_type": "code",
   "execution_count": 17,
   "metadata": {},
   "outputs": [
    {
     "name": "stdout",
     "output_type": "stream",
     "text": [
      "P(buy item 2) = P(buy item 2 + P0) =  [0.3473684210526316, 0.2073170731707317, 0.24696356275303644, 0.17557251908396945]\n"
     ]
    }
   ],
   "source": [
    "# Number of people per class that buy item 2 (or, equivalently, buy item 2 after buying item 1 and getting promo P0)\n",
    "nc1_i2_p0 = c1.Date[c1.WS0 == 'Sì'].count()\n",
    "nc2_i2_p0 = c2.Date[c2.WS0 == 'Sì'].count()\n",
    "nc3_i2_p0 = c3.Date[c3.WS0 == 'Sì'].count()\n",
    "nc4_i2_p0 = c4.Date[c4.WS0 == 'Sì'].count()\n",
    "\n",
    "# P(buy item 2) = P(buy item 2 + P0) = i2_p0\n",
    "c1_i2_p0 = (nc1_i2_p0) / N1\n",
    "c2_i2_p0 = (nc2_i2_p0) / N2\n",
    "c3_i2_p0 = (nc3_i2_p0) / N3\n",
    "c4_i2_p0 = (nc4_i2_p0) / N4\n",
    "\n",
    "print(\"P(buy item 2) = P(buy item 2 + P0) = \", [c1_i2_p0, c2_i2_p0, c3_i2_p0, c4_i2_p0])"
   ]
  },
  {
   "cell_type": "code",
   "execution_count": 20,
   "metadata": {
    "pycharm": {
     "name": "#%%\n"
    }
   },
   "outputs": [
    {
     "name": "stdout",
     "output_type": "stream",
     "text": [
      "P(buy item 2) = P(buy item 2 + P1) =  [0.3973684210526316, 0.24796747967479674, 0.291497975708502, 0.1984732824427481]\n"
     ]
    }
   ],
   "source": [
    "# Number of people per class that buy item 2 after buying item 1 and getting promo P1\n",
    "nc1_i2_p1 = c1.Date[c1.WS10 == 'Sì'].count()\n",
    "nc2_i2_p1 = c2.Date[c2.WS10 == 'Sì'].count()\n",
    "nc3_i2_p1 = c3.Date[c3.WS10 == 'Sì'].count()\n",
    "nc4_i2_p1 = c4.Date[c4.WS10 == 'Sì'].count()\n",
    "\n",
    "# P(buy item 2 + P1) = i2_p1\n",
    "c1_i2_p1 = (nc1_i2_p1 + nc1_i2_p0 ) / N1\n",
    "c2_i2_p1 = (nc2_i2_p1 + nc2_i2_p0) / N2\n",
    "c3_i2_p1 = (nc3_i2_p1 + nc3_i2_p0) / N3\n",
    "c4_i2_p1 = (nc4_i2_p1 + nc4_i2_p0) / N4\n",
    "\n",
    "print(\"P(buy item 2) = P(buy item 2 + P1) = \", [c1_i2_p1, c2_i2_p1, c3_i2_p1, c4_i2_p1])"
   ]
  },
  {
   "cell_type": "code",
   "execution_count": 21,
   "metadata": {
    "pycharm": {
     "name": "#%%\n"
    }
   },
   "outputs": [
    {
     "name": "stdout",
     "output_type": "stream",
     "text": [
      "P(buy item 2) = P(buy item 2 + P2) =  [0.4421052631578947, 0.2764227642276423, 0.31983805668016196, 0.22137404580152673]\n"
     ]
    }
   ],
   "source": [
    "# Number of people per class that buy item 2 after buying item 1 and getting promo P2\n",
    "nc1_i2_p2 = c1.Date[c1.WS20 == 'Sì'].count()\n",
    "nc2_i2_p2 = c2.Date[c2.WS20 == 'Sì'].count()\n",
    "nc3_i2_p2 = c3.Date[c3.WS20 == 'Sì'].count()\n",
    "nc4_i2_p2 = c4.Date[c4.WS20 == 'Sì'].count()\n",
    "\n",
    "# P(buy item 2 + P2) = i2_p2\n",
    "c1_i2_p2 = (nc1_i2_p2 + nc1_i2_p1 + nc1_i2_p0) / N1\n",
    "c2_i2_p2 = (nc2_i2_p2 + nc2_i2_p1 + nc2_i2_p0) / N2\n",
    "c3_i2_p2 = (nc3_i2_p2 + nc3_i2_p1 + nc3_i2_p0) / N3\n",
    "c4_i2_p2 = (nc4_i2_p2 + nc4_i2_p1 + nc4_i2_p0) / N4\n",
    "\n",
    "print(\"P(buy item 2) = P(buy item 2 + P2) = \", [c1_i2_p2, c2_i2_p2, c3_i2_p2, c4_i2_p2])"
   ]
  },
  {
   "cell_type": "code",
   "execution_count": 22,
   "metadata": {
    "pycharm": {
     "name": "#%%\n"
    }
   },
   "outputs": [
    {
     "name": "stdout",
     "output_type": "stream",
     "text": [
      "P(buy item 2) = P(buy item 2 + P3) =  [0.7578947368421053, 0.5934959349593496, 0.6072874493927125, 0.44274809160305345]\n"
     ]
    }
   ],
   "source": [
    "# Number of people per class that buy item 2 after buying item 1 and getting promo P3\n",
    "nc1_i2_p3 = c1.Date[c1.WS50 == 'Sì'].count()\n",
    "nc2_i2_p3 = c2.Date[c2.WS50 == 'Sì'].count()\n",
    "nc3_i2_p3 = c3.Date[c3.WS50 == 'Sì'].count()\n",
    "nc4_i2_p3 = c4.Date[c4.WS50 == 'Sì'].count()\n",
    "\n",
    "# P(buy item 2 + P3) = i2_p3\n",
    "c1_i2_p3 = (nc1_i2_p3 + nc1_i2_p2 + nc1_i2_p1 + nc1_i2_p0) / N1\n",
    "c2_i2_p3 = (nc2_i2_p3 + nc2_i2_p2 + nc2_i2_p1 + nc2_i2_p0) / N2\n",
    "c3_i2_p3 = (nc3_i2_p3 + nc3_i2_p2 + nc3_i2_p1 + nc3_i2_p0) / N3\n",
    "c4_i2_p3 = (nc4_i2_p3 + nc4_i2_p2 + nc4_i2_p1 + nc4_i2_p0) / N4\n",
    "\n",
    "print(\"P(buy item 2) = P(buy item 2 + P3) = \", [c1_i2_p3, c2_i2_p3, c3_i2_p3, c4_i2_p3])"
   ]
  },
  {
   "cell_type": "markdown",
   "metadata": {},
   "source": [
    "### Resulting data structures"
   ]
  },
  {
   "cell_type": "code",
   "execution_count": 23,
   "metadata": {
    "pycharm": {
     "name": "#%%\n"
    }
   },
   "outputs": [
    {
     "data": {
      "text/plain": [
       "array([380, 246, 247, 131])"
      ]
     },
     "execution_count": 23,
     "metadata": {},
     "output_type": "execute_result"
    }
   ],
   "source": [
    "# Array containing the number of customers per class [c1, c2, c3, c4]\n",
    "customers = np.array([N1, N2, N3, N4])\n",
    "customers"
   ]
  },
  {
   "cell_type": "code",
   "execution_count": 27,
   "metadata": {},
   "outputs": [
    {
     "data": {
      "text/plain": [
       "array([0.49736842, 0.36178862, 0.44534413, 0.3740458 ])"
      ]
     },
     "execution_count": 27,
     "metadata": {},
     "output_type": "execute_result"
    }
   ],
   "source": [
    "# Probabilities to buy item 1, divided by class\n",
    "prob_buy_item1 = np.array([c1_i1, c2_i1, c3_i1, c4_i1])\n",
    "prob_buy_item1"
   ]
  },
  {
   "cell_type": "code",
   "execution_count": 30,
   "metadata": {
    "pycharm": {
     "name": "#%%\n"
    }
   },
   "outputs": [
    {
     "data": {
      "text/html": [
       "<div>\n",
       "<style scoped>\n",
       "    .dataframe tbody tr th:only-of-type {\n",
       "        vertical-align: middle;\n",
       "    }\n",
       "\n",
       "    .dataframe tbody tr th {\n",
       "        vertical-align: top;\n",
       "    }\n",
       "\n",
       "    .dataframe thead th {\n",
       "        text-align: right;\n",
       "    }\n",
       "</style>\n",
       "<table border=\"1\" class=\"dataframe\">\n",
       "  <thead>\n",
       "    <tr style=\"text-align: right;\">\n",
       "      <th></th>\n",
       "      <th>Class1</th>\n",
       "      <th>Class2</th>\n",
       "      <th>Class3</th>\n",
       "      <th>Class4</th>\n",
       "    </tr>\n",
       "  </thead>\n",
       "  <tbody>\n",
       "    <tr>\n",
       "      <th>P0</th>\n",
       "      <td>0.347368</td>\n",
       "      <td>0.207317</td>\n",
       "      <td>0.246964</td>\n",
       "      <td>0.175573</td>\n",
       "    </tr>\n",
       "    <tr>\n",
       "      <th>P1</th>\n",
       "      <td>0.397368</td>\n",
       "      <td>0.247967</td>\n",
       "      <td>0.291498</td>\n",
       "      <td>0.198473</td>\n",
       "    </tr>\n",
       "    <tr>\n",
       "      <th>P2</th>\n",
       "      <td>0.442105</td>\n",
       "      <td>0.276423</td>\n",
       "      <td>0.319838</td>\n",
       "      <td>0.221374</td>\n",
       "    </tr>\n",
       "    <tr>\n",
       "      <th>P3</th>\n",
       "      <td>0.757895</td>\n",
       "      <td>0.593496</td>\n",
       "      <td>0.607287</td>\n",
       "      <td>0.442748</td>\n",
       "    </tr>\n",
       "  </tbody>\n",
       "</table>\n",
       "</div>"
      ],
      "text/plain": [
       "      Class1    Class2    Class3    Class4\n",
       "P0  0.347368  0.207317  0.246964  0.175573\n",
       "P1  0.397368  0.247967  0.291498  0.198473\n",
       "P2  0.442105  0.276423  0.319838  0.221374\n",
       "P3  0.757895  0.593496  0.607287  0.442748"
      ]
     },
     "execution_count": 30,
     "metadata": {},
     "output_type": "execute_result"
    }
   ],
   "source": [
    "# Probabilities to buy item 2 given each promo, divided by class\n",
    "prob_buy_item2 = np.array([[c1_i2_p0, c2_i2_p0, c3_i2_p0, c4_i2_p0],\n",
    "                           [c1_i2_p1, c2_i2_p1, c3_i2_p1, c4_i2_p1],\n",
    "                           [c1_i2_p2, c2_i2_p2, c3_i2_p2, c4_i2_p2],\n",
    "                           [c1_i2_p3, c2_i2_p3, c3_i2_p3, c4_i2_p3]])\n",
    "\n",
    "prob_buy_item2_df = pd.DataFrame(data=prob_buy_item2,\n",
    "                                 index=[\"P0\", \"P1\", \"P2\", \"P3\"],\n",
    "                                 columns=[\"Class1\", \"Class2\", \"Class3\", \"Class4\"])\n",
    "\n",
    "prob_buy_item2_df"
   ]
  },
  {
   "cell_type": "code",
   "execution_count": 34,
   "metadata": {
    "pycharm": {
     "name": "#%%\n"
    }
   },
   "outputs": [
    {
     "data": {
      "text/html": [
       "<div>\n",
       "<style scoped>\n",
       "    .dataframe tbody tr th:only-of-type {\n",
       "        vertical-align: middle;\n",
       "    }\n",
       "\n",
       "    .dataframe tbody tr th {\n",
       "        vertical-align: top;\n",
       "    }\n",
       "\n",
       "    .dataframe thead th {\n",
       "        text-align: right;\n",
       "    }\n",
       "</style>\n",
       "<table border=\"1\" class=\"dataframe\">\n",
       "  <thead>\n",
       "    <tr style=\"text-align: right;\">\n",
       "      <th></th>\n",
       "      <th>Class1</th>\n",
       "      <th>Class2</th>\n",
       "      <th>Class3</th>\n",
       "      <th>Class4</th>\n",
       "    </tr>\n",
       "  </thead>\n",
       "  <tbody>\n",
       "    <tr>\n",
       "      <th>P0</th>\n",
       "      <td>132</td>\n",
       "      <td>51</td>\n",
       "      <td>61</td>\n",
       "      <td>23</td>\n",
       "    </tr>\n",
       "    <tr>\n",
       "      <th>P1</th>\n",
       "      <td>19</td>\n",
       "      <td>10</td>\n",
       "      <td>11</td>\n",
       "      <td>3</td>\n",
       "    </tr>\n",
       "    <tr>\n",
       "      <th>P2</th>\n",
       "      <td>17</td>\n",
       "      <td>7</td>\n",
       "      <td>7</td>\n",
       "      <td>3</td>\n",
       "    </tr>\n",
       "    <tr>\n",
       "      <th>P3</th>\n",
       "      <td>120</td>\n",
       "      <td>78</td>\n",
       "      <td>71</td>\n",
       "      <td>29</td>\n",
       "    </tr>\n",
       "  </tbody>\n",
       "</table>\n",
       "</div>"
      ],
      "text/plain": [
       "    Class1  Class2  Class3  Class4\n",
       "P0     132      51      61      23\n",
       "P1      19      10      11       3\n",
       "P2      17       7       7       3\n",
       "P3     120      78      71      29"
      ]
     },
     "execution_count": 34,
     "metadata": {},
     "output_type": "execute_result"
    }
   ],
   "source": [
    "# Number of people that buy item 2 given each promo, divided by class\n",
    "n_buy_item2 = np.array([[nc1_i2_p0, nc2_i2_p0, nc3_i2_p0, nc4_i2_p0],\n",
    "                        [nc1_i2_p1, nc2_i2_p1, nc3_i2_p1, nc4_i2_p1],\n",
    "                        [nc1_i2_p2, nc2_i2_p2, nc3_i2_p2, nc4_i2_p2],\n",
    "                        [nc1_i2_p3, nc2_i2_p3, nc3_i2_p3, nc4_i2_p3]])\n",
    "\n",
    "n_buy_item2_df = pd.DataFrame(data=n_buy_item2,\n",
    "                              index=[\"P0\", \"P1\", \"P2\", \"P3\"],\n",
    "                              columns=[\"Class1\", \"Class2\", \"Class3\", \"Class4\"])\n",
    "\n",
    "n_buy_item2_df\n",
    "\n",
    "# To check that che sum are correct\n",
    "#np.sum(n_buy_item2) + data.Date[data.WS50 == \"No\"].count() == data.Date.count()"
   ]
  }
 ],
 "metadata": {
  "kernelspec": {
   "display_name": "Python 3",
   "language": "python",
   "name": "python3"
  },
  "language_info": {
   "codemirror_mode": {
    "name": "ipython",
    "version": 3
   },
   "file_extension": ".py",
   "mimetype": "text/x-python",
   "name": "python",
   "nbconvert_exporter": "python",
   "pygments_lexer": "ipython3",
   "version": "3.9.2"
  }
 },
 "nbformat": 4,
 "nbformat_minor": 1
}
